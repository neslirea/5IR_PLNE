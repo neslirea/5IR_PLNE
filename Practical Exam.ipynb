{
 "cells": [
  {
   "cell_type": "markdown",
   "metadata": {
    "id": "_UopwNR5iBSR"
   },
   "source": [
    "# Practical Session - Final\n",
    "\n",
    "Student(s):\n",
    "\n",
    "Aubery Cléa\n",
    "Shinawi Aymeric"
   ]
  },
  {
   "cell_type": "markdown",
   "metadata": {
    "id": "CfpMfovoiBSc"
   },
   "source": [
    "## 1. Problem selection\n",
    "\n",
    "Choose one of the two following problems (delete the other cell).\n",
    "You can find extra information regarding both problems and their associated models in\n",
    "the main course."
   ]
  },
  {
   "cell_type": "markdown",
   "metadata": {
    "id": "o5-5r1VLiBSi"
   },
   "source": [
    "### Problem 1: Single-Machine Scheduling\n",
    "\n",
    "A machine needs to produce a set L of n items. Each\n",
    "item i has a manufacturing time pi, a release time ri (time at which its components are\n",
    "available) and a deadline di (time at which the time should be manufactured). The\n",
    "factory can only produce one item at a time, and manufacturing process cannot be\n",
    "interrupted (non-preemptive machine), what is the schedule that minimize the\n",
    "overdue deliveries?\n",
    "\n",
    "**Variables:**\n",
    "\n",
    "- $x_{ij}$ - Binary variable indicating if $i$ is manufactured before $j$.\n",
    "- $s_{i}$ - Continuous variable indicating the starting time of task $i$.\n",
    "- $y_{i}$ - Binary variable indicating if the item $i$ is overdue.\n",
    "\n",
    "**Model:**\n",
    "\n",
    "$$\n",
    "    \\begin{align}\n",
    "      \\text{min.} \\quad & \\sum_{j=1}^{n} y_{i}                 &                                           \\\\\n",
    "      \\text{s.t.} \\quad & s_j \\geq s_i + p_i - M^1_{ij} (1 - x_{ij}), & \\forall i,j \\in L,\\ i \\ne j \\\\\n",
    "                        & s_i + p_i \\leq d_i + M^2_{i} y_i,          & \\forall i \\in L             \\\\\n",
    "                        & x_{ij} + x_{ji} = 1,                 & \\forall i,j \\in L,\\ i \\ne j \\\\\n",
    "                        & x_{ij} \\in \\left\\{0,~1\\right\\},      & \\forall i,j \\in L                         \\\\\n",
    "                        & y_{i} \\in \\left\\{0,~1\\right\\},       & \\forall i \\in L                           \\\\\n",
    "                        & s_{i} \\geq r_{i},                    & \\forall i \\in L\n",
    "    \\end{align}\n",
    "$$"
   ]
  },
  {
   "cell_type": "markdown",
   "metadata": {
    "id": "_8MEsJzgiBSv"
   },
   "source": [
    "## 2. Preparation\n",
    "\n",
    "### 2.1. Instance\n",
    "\n",
    "Implement a class to hold the various data parameters required for the problem (e.g.,\n",
    "manufacturing time or aircraft target landing time).\n",
    "Your class can be a simple data holder with various fields or can contain extra methods\n",
    "for later use."
   ]
  },
  {
   "cell_type": "code",
   "execution_count": 115,
   "metadata": {
    "executionInfo": {
     "elapsed": 9,
     "status": "ok",
     "timestamp": 1706474658999,
     "user": {
      "displayName": "Clea Aubery",
      "userId": "13615853629296836833"
     },
     "user_tz": -60
    },
    "id": "NaPCZ--NiBSy"
   },
   "outputs": [],
   "source": [
    "def createItem(pi, ri, di):\n",
    "    return [pi, ri, di]\n",
    "\n",
    "class Instance:\n",
    "    def __init__(self):\n",
    "      self.items=[]\n",
    "\n",
    "    def addItems(self, items):\n",
    "      self.items.extend(items)\n",
    "\n",
    "    def addItem(self, item):\n",
    "      self.items.append(item)\n",
    "\n",
    "    def getItems(self):\n",
    "      return self.items\n",
    "\n",
    "    def getNbItems(self):\n",
    "      return len(self.items)\n",
    "\n",
    "    def getItem(self, i):\n",
    "      return self.items[i]\n",
    "\n",
    "    def getPi(self, i):\n",
    "      return self.items[i][1]\n",
    "\n",
    "    def getRi(self, i):\n",
    "      return self.items[i][1]\n",
    "\n",
    "    def getDi(self, i):\n",
    "      return self.items[i][1]"
   ]
  },
  {
   "cell_type": "code",
   "execution_count": 116,
   "metadata": {
    "colab": {
     "base_uri": "https://localhost:8080/"
    },
    "executionInfo": {
     "elapsed": 6,
     "status": "ok",
     "timestamp": 1706474664118,
     "user": {
      "displayName": "Clea Aubery",
      "userId": "13615853629296836833"
     },
     "user_tz": -60
    },
    "id": "lQspgH4b92U6",
    "outputId": "d167419b-4a44-4a4b-df72-ad905145d1e1"
   },
   "outputs": [
    {
     "name": "stdout",
     "output_type": "stream",
     "text": [
      "[2, 5, 10]\n",
      "[[2, 5, 10], [1, 7, 15]]\n",
      "[[2, 5, 10], [1, 7, 15], [3, 5, 22], [4, 1, 8]]\n",
      "[1, 7, 15]\n"
     ]
    }
   ],
   "source": [
    "# (Test)\n",
    "\n",
    "print(createItem(2, 5, 10))\n",
    "\n",
    "instance = Instance()\n",
    "\n",
    "instance.addItem(createItem(2, 5, 10))\n",
    "instance.addItem(createItem(1, 7, 15))\n",
    "print(instance.getItems())\n",
    "\n",
    "instance.addItems([createItem(3, 5, 22), createItem(4, 1, 8)])\n",
    "print(instance.getItems())\n",
    "\n",
    "print(instance.getItem(1))"
   ]
  },
  {
   "cell_type": "markdown",
   "metadata": {
    "id": "_54hs5pZiBS3"
   },
   "source": [
    "### 2.2. Solution\n",
    "\n",
    "Implement a to hold a proper solution for the chosen problem.\n",
    "Your class should not contain the values for all variables in your model but only the\n",
    "relevant ones."
   ]
  },
  {
   "cell_type": "code",
   "execution_count": 117,
   "metadata": {
    "executionInfo": {
     "elapsed": 304,
     "status": "ok",
     "timestamp": 1706474857054,
     "user": {
      "displayName": "Clea Aubery",
      "userId": "13615853629296836833"
     },
     "user_tz": -60
    },
    "id": "Eg3MZt0viBS6"
   },
   "outputs": [],
   "source": [
    "# need to stock  ?\n",
    "#    xij - Binary variable indicating if i is manufactured before j.  --> not really, can be deducted\n",
    "#    yi - Binary variable indicating if the item i is overdue. --> not really, can be deducted\n",
    "#    si - Continuous variable indicating the starting time of task i.  --> yes\n",
    "#         How do we know i / the length of s ?\n",
    "#         We have instance but not initialized.\n",
    "\n",
    "class Solution:\n",
    "    instance: Instance\n",
    "\n",
    "    def __init__(self):\n",
    "      self.s=[]\n",
    "\n",
    "    def setInstance(self, instance):\n",
    "      self.instance = instance\n",
    "      self.s=[-1 for i in range(instance.getNbItems())]\n",
    "\n",
    "    def setS(self, S):\n",
    "      if(len(S)==len(self.s)):\n",
    "        self.s = S\n",
    "      else:\n",
    "        raise Exception(\"Incorrect length for Y!\")\n",
    "\n",
    "    def setSi(self, i,  si):\n",
    "      self.s[i]=si\n",
    "\n",
    "    def getS(self):\n",
    "      return self.s\n",
    "\n",
    "    def getSi(self, i):\n",
    "      return self.s[i]\n",
    "\n",
    "    def getInstance(self):\n",
    "      return self.instance"
   ]
  },
  {
   "cell_type": "markdown",
   "metadata": {
    "id": "k0aFG_pkiBS9"
   },
   "source": [
    "Implement the function below to check if a solution is valid or not."
   ]
  },
  {
   "cell_type": "code",
   "execution_count": 59,
   "metadata": {
    "executionInfo": {
     "elapsed": 6,
     "status": "ok",
     "timestamp": 1706475474360,
     "user": {
      "displayName": "Clea Aubery",
      "userId": "13615853629296836833"
     },
     "user_tz": -60
    },
    "id": "YZwEeN5-iBTA"
   },
   "outputs": [],
   "source": [
    "\n",
    "def check_solution(solution: Solution) -> bool:\n",
    "    instance = solution.getInstance()\n",
    "    res = True\n",
    "    for index, item in enumerate(instance.getItems()):\n",
    "      # item  : ri, pi, di :  release time ri, manufacturing time pi and a deadline di\n",
    "      # verification : task is executed\n",
    "      soli = solution.getSi(index)\n",
    "\n",
    "      if(soli==-1):\n",
    "        res = False\n",
    "      # verification : task is started after release time\n",
    "      elif(item[0]>soli):\n",
    "        res = False\n",
    "\n",
    "    return res\n",
    "\n",
    "def check_solution_ontime(solution : Solution) -> bool :\n",
    "    res = check_solution(solution)\n",
    "    for index, item in enumerate(instance.getItems()):\n",
    "      soli = solution.getSi(index)\n",
    "      # delay (exec + process > deadline)    \n",
    "      # possible : return pair of boolean : isValid, isLate\n",
    "      if item[1] + soli > item[2]:\n",
    "        res = False\n",
    "    return res\n",
    "    "
   ]
  },
  {
   "cell_type": "code",
   "execution_count": 60,
   "metadata": {
    "colab": {
     "base_uri": "https://localhost:8080/"
    },
    "executionInfo": {
     "elapsed": 315,
     "status": "ok",
     "timestamp": 1706475922381,
     "user": {
      "displayName": "Clea Aubery",
      "userId": "13615853629296836833"
     },
     "user_tz": -60
    },
    "id": "M8rfKMZzu6n7",
    "outputId": "778bd391-6165-4550-a88a-8dcfe82e09eb"
   },
   "outputs": [
    {
     "name": "stdout",
     "output_type": "stream",
     "text": [
      "[[2, 5, 10], [1, 7, 15], [3, 5, 22], [4, 1, 8]]\n",
      "[-1, -1, -1, -1] \n",
      "\n",
      "[1, 8, 15, 7]\n",
      "False\n",
      "[-1, 8, 15, 7]\n",
      "False\n",
      "[2, 8, 15, 7]\n",
      "True\n",
      "True\n",
      "[2, 8, 20, 7]\n",
      "True\n",
      "False\n"
     ]
    }
   ],
   "source": [
    "# (Test)\n",
    "sol = Solution()\n",
    "\n",
    "sol.setInstance(instance)\n",
    "print(sol.getInstance().getItems())\n",
    "print(sol.getS(), \"\\n\")\n",
    "\n",
    "sol.setS([1, 8, 15, 7])\n",
    "\n",
    "# items = [[2, 5, 10], [1, 7, 15], [3, 5, 22], [4, 1, 8]]\n",
    "# false sol\n",
    "print(sol.getS())\n",
    "print(check_solution(sol))\n",
    "\n",
    "# false sol = 2, 8, 15, 7\n",
    "sol.setSi(0, -1)\n",
    "print(sol.getS())\n",
    "print(check_solution(sol))\n",
    "\n",
    "\n",
    "# true sol = 2, 8, 15, 7\n",
    "sol.setSi(0, 2)\n",
    "print(sol.getS())\n",
    "print(check_solution(sol))\n",
    "print(check_solution_ontime(sol))\n",
    "\n",
    "# true sol (late) = 2, 8, 15, 7\n",
    "sol.setSi(2, 20)\n",
    "print(sol.getS())\n",
    "print(check_solution(sol))\n",
    "print(check_solution_ontime(sol))\n"
   ]
  },
  {
   "cell_type": "markdown",
   "metadata": {
    "id": "Z89L4rb8iBTC"
   },
   "source": [
    "### 2.3. Data Generation\n",
    "\n",
    "Propose, explain and implement a method to generate instances of various sizes (e.g.,\n",
    "number of items or number of aircraft)."
   ]
  },
  {
   "cell_type": "code",
   "execution_count": 107,
   "metadata": {
    "executionInfo": {
     "elapsed": 366,
     "status": "ok",
     "timestamp": 1706476400262,
     "user": {
      "displayName": "Clea Aubery",
      "userId": "13615853629296836833"
     },
     "user_tz": -60
    },
    "id": "YbWBKPcCiBTD"
   },
   "outputs": [],
   "source": [
    "import random\n",
    "\n",
    "def generate_instance(size: int, rng: random.Random = random.Random(), maxDuration: int = 1) -> Instance:\n",
    "    # Generation of the n items. [pi, ri, di]\n",
    "    # pi : On peut choisir une durée max des tâches en paramètre (défaut : 15)\n",
    "    # ri : On choisi de façon aléatoire entre 0 et (pi-1)*size\n",
    "    # di : On choisi de façon aléatoire entre pi et pi*size\n",
    "    items = [[] for i in range(size)]\n",
    "    for i in range(size):\n",
    "      #\n",
    "      ri = int (rng.random()*size*maxDuration)\n",
    "      pi = int (rng.random()*maxDuration+1)\n",
    "\n",
    "      di = int(rng.random()*maxDuration*4) + pi +ri\n",
    "      items[i] = [[pi, ri, di]]\n",
    "\n",
    "    return items\n"
   ]
  },
  {
   "cell_type": "code",
   "execution_count": 108,
   "metadata": {
    "colab": {
     "base_uri": "https://localhost:8080/"
    },
    "executionInfo": {
     "elapsed": 7,
     "status": "ok",
     "timestamp": 1706476411728,
     "user": {
      "displayName": "Clea Aubery",
      "userId": "13615853629296836833"
     },
     "user_tz": -60
    },
    "id": "eOtUkKmr45--",
    "outputId": "77ad0e23-5b08-4e17-a541-3d8e72c3e3ae"
   },
   "outputs": [
    {
     "name": "stdout",
     "output_type": "stream",
     "text": [
      "[[[1, 1, 5]], [[1, 1, 2]], [[1, 4, 8]], [[1, 1, 3]], [[1, 0, 3]]]\n"
     ]
    }
   ],
   "source": [
    "# (Test)\n",
    "\n",
    "print(generate_instance(5))"
   ]
  },
  {
   "cell_type": "markdown",
   "metadata": {
    "id": "u8_2YpkpiBTE"
   },
   "source": [
    "## 3. Model implementation\n",
    "\n",
    "### 3.1. Model\n",
    "\n",
    "Implement the function below that should create an appropriate `docplex` model\n",
    "given an instance of the chosen problem.\n",
    "\n",
    "Use appropriate values for the big-$M$ constants in the model."
   ]
  },
  {
   "cell_type": "markdown",
   "metadata": {
    "id": "o5-5r1VLiBSi"
   },
   "source": [
    "### Problem 1: Single-Machine Scheduling\n",
    "\n",
    "A machine needs to produce a set L of n items. Each\n",
    "item i has a manufacturing time pi, a release time ri (time at which its components are\n",
    "available) and a deadline di (time at which the time should be manufactured). The\n",
    "factory can only produce one item at a time, and manufacturing process cannot be\n",
    "interrupted (non-preemptive machine), what is the schedule that minimize the\n",
    "overdue deliveries?\n",
    "\n",
    "**Variables:**\n",
    "\n",
    "- $x_{ij}$ - Binary variable indicating if $i$ is manufactured before $j$.\n",
    "- $s_{i}$ - Continuous variable indicating the starting time of task $i$.\n",
    "- $y_{i}$ - Binary variable indicating if the item $i$ is overdue.\n",
    "\n",
    "**Model:**\n",
    "\n",
    "$$\n",
    "    \\begin{align}\n",
    "      \\text{min.} \\quad & \\sum_{j=1}^{n} y_{i}                 &                                           \\\\\n",
    "      \\text{s.t.} \\quad & s_j \\geq s_i + p_i - M^1_{ij} (1 - x_{ij}), & \\forall i,j \\in L,\\ i \\ne j \\\\\n",
    "                        & s_i + p_i \\leq d_i + M^2_{i} y_i,          & \\forall i \\in L             \\\\\n",
    "                        & x_{ij} + x_{ji} = 1,                 & \\forall i,j \\in L,\\ i \\ne j \\\\\n",
    "                        & x_{ij} \\in \\left\\{0,~1\\right\\},      & \\forall i,j \\in L                         \\\\\n",
    "                        & y_{i} \\in \\left\\{0,~1\\right\\},       & \\forall i \\in L                           \\\\\n",
    "                        & s_{i} \\geq r_{i},                    & \\forall i \\in L\n",
    "    \\end{align}\n",
    "$$"
   ]
  },
  {
   "cell_type": "code",
   "execution_count": 120,
   "metadata": {
    "id": "UqJvPUVTiBTF"
   },
   "outputs": [
    {
     "name": "stdout",
     "output_type": "stream",
     "text": [
      "docplex.mp.Model['Single-Machine Scheduling']\n"
     ]
    }
   ],
   "source": [
    "from docplex.mp.model import Model\n",
    "\n",
    "def model_for(instance: Instance) -> Model:\n",
    "    model = Model(\"Single-Machine Scheduling\")\n",
    "    \n",
    "    L = instance.getNbItems()\n",
    "    \n",
    "    # upper bound for y : temps max *2 + biggest realease time\n",
    "    M = max([pi for pi, ri, di in instance.getItems()]) * L + max([ri for pi, ri, di in instance.getItems()])\n",
    "\n",
    "    # Create si, yi\n",
    "    s = model.integer_var_list(L, 0, M, name=\"s_\")\n",
    "    y = model.binary_var_list(L, name=\"y_\")\n",
    "    \n",
    "    # Create xi\n",
    "    x = []\n",
    "    for i in range(L):\n",
    "        x.append(model.binary_var_list(L, name=f\"x{i}_\"))\n",
    "        \n",
    "    # Objective contraint\n",
    "    model.minimize(sum(y))\n",
    "    \n",
    "    # --- Constraints ---------\n",
    "    # sj >= si + pi - M(1, ij)(1-xij)\n",
    "    for i in range(L):\n",
    "        for j in range(L):\n",
    "            if i != j:\n",
    "                model.add_constraint(s[j] >= s[i] + instance.getItem(i)[0] - M * (1 - x[i][j]))\n",
    "\n",
    "    # si + pi <= di + M(2, i)(yi)\n",
    "    for i in range(L):\n",
    "        model.add_constraint_(s[i] + instance.getPi(i) <= instance.getDi(i) + M * y[i])\n",
    "      \n",
    "    for i in range(L):\n",
    "        # xij + xji = 1\n",
    "        for j in range(i):\n",
    "            model.add_constraint_(x[i][j]+x[j][i]==1)          \n",
    "        \n",
    "        # si >= ri    \n",
    "        model.add_constraint_(s[i]>=instance.getRi(i))\n",
    "        \n",
    "    # -------------------------\n",
    "        \n",
    "    return model\n",
    "    \n",
    "print(model_for(instance))\n"
   ]
  },
  {
   "cell_type": "code",
   "execution_count": 121,
   "metadata": {},
   "outputs": [
    {
     "data": {
      "text/plain": [
       "docplex.mp.Model['Single-Machine Scheduling']"
      ]
     },
     "execution_count": 121,
     "metadata": {},
     "output_type": "execute_result"
    }
   ],
   "source": [
    "mdl = model_for(instance)\n",
    "mdl"
   ]
  },
  {
   "cell_type": "markdown",
   "metadata": {
    "id": "BE5kKvIiiBTG"
   },
   "source": [
    "### 3.2. Resolution\n",
    "\n",
    "Complete the function below to construct a proper `Solution` from the obtained\n",
    "`docplex` solution."
   ]
  },
  {
   "cell_type": "code",
   "execution_count": 122,
   "metadata": {
    "id": "RMqY1SXHiBTH"
   },
   "outputs": [],
   "source": [
    "def solve(instance: Instance) -> Solution | None:\n",
    "    model = model_for(instance)\n",
    "\n",
    "    # enable logging\n",
    "    model.log_output = True\n",
    "\n",
    "    # solve\n",
    "    solution = model.solve()\n",
    "    \n",
    "    if not solution:\n",
    "        return None\n",
    "\n",
    "    # TODO: convert the docplex solution to an appropriate Solution\n",
    "    print(\"---------------\")\n",
    "    print(instance.getItems())\n",
    "    print(solution)"
   ]
  },
  {
   "cell_type": "code",
   "execution_count": 123,
   "metadata": {},
   "outputs": [
    {
     "name": "stdout",
     "output_type": "stream",
     "text": [
      "Version identifier: 22.1.1.0 | 2022-11-28 | 9160aff4d\n",
      "CPXPARAM_Read_DataCheck                          1\n",
      "Found incumbent of value 4.000000 after 0.00 sec. (0.00 ticks)\n",
      "Tried aggregator 2 times.\n",
      "MIP Presolve eliminated 8 rows and 8 columns.\n",
      "MIP Presolve modified 18 coefficients.\n",
      "Aggregator did 6 substitutions.\n",
      "Reduced MIP has 12 rows, 10 columns, and 36 nonzeros.\n",
      "Reduced MIP has 6 binaries, 4 generals, 0 SOSs, and 0 indicators.\n",
      "Presolve time = 0.01 sec. (0.04 ticks)\n",
      "Probing time = 0.00 sec. (0.00 ticks)\n",
      "Tried aggregator 1 time.\n",
      "Detecting symmetries...\n",
      "Reduced MIP has 12 rows, 10 columns, and 36 nonzeros.\n",
      "Reduced MIP has 6 binaries, 4 generals, 0 SOSs, and 0 indicators.\n",
      "Presolve time = 0.00 sec. (0.02 ticks)\n",
      "\n",
      "Root node processing (before b&c):\n",
      "  Real time             =    0.01 sec. (0.08 ticks)\n",
      "Parallel b&c, 12 threads:\n",
      "  Real time             =    0.00 sec. (0.00 ticks)\n",
      "  Sync time (average)   =    0.00 sec.\n",
      "  Wait time (average)   =    0.00 sec.\n",
      "                          ------------\n",
      "Total (root+branch&cut) =    0.01 sec. (0.08 ticks)\n",
      "---------------\n",
      "[[2, 5, 10], [1, 7, 15], [3, 5, 22], [4, 1, 8]]\n",
      "solution for: Single-Machine Scheduling\n",
      "objective: 4\n",
      "s__0=5\n",
      "s__1=7\n",
      "s__2=8\n",
      "s__3=11\n",
      "y__0=1\n",
      "y__1=1\n",
      "y__2=1\n",
      "y__3=1\n",
      "x0__1=1\n",
      "x0__2=1\n",
      "x0__3=1\n",
      "x1__2=1\n",
      "x1__3=1\n",
      "x2__3=1\n",
      "\n"
     ]
    }
   ],
   "source": [
    "solve(instance)"
   ]
  },
  {
   "cell_type": "markdown",
   "metadata": {
    "id": "B0mEfTdUiBTI"
   },
   "source": [
    "## 4. Evaluation\n",
    "\n",
    "### 4.1. Simple evaluation\n",
    "\n",
    "Evaluate the model and solution implemented above on various instances generated by\n",
    "your method.\n",
    "\n",
    "What size of instances can your model solve? Which parameters have the biggest impact\n",
    "on the resolution time?"
   ]
  },
  {
   "cell_type": "code",
   "execution_count": null,
   "metadata": {
    "id": "Mgxxo44QiBTJ"
   },
   "outputs": [],
   "source": []
  },
  {
   "cell_type": "markdown",
   "metadata": {
    "id": "VH3Xsz8EiBTJ"
   },
   "source": [
    "### 4.2. Relaxation\n",
    "\n",
    "Evaluate the impact of having tighter big-$M$ values in your model to the appropriate\n",
    "relaxation.\n",
    "\n",
    "**Tips:**\n",
    "\n",
    "- Adapt the `model_for` function (or create a new one) to easily change the big-$M$\n",
    "  values.\n",
    "- You can use the following code to solve the relaxation of your model:\n",
    "\n",
    "```python\n",
    "from docplex.mp.relax_linear import LinearRelaxer\n",
    "\n",
    "lp = LinearRelaxer.make_relaxed_model(model)\n",
    "solution_relaxed = lp.solve(log_output=True)\n",
    "```"
   ]
  },
  {
   "cell_type": "code",
   "execution_count": null,
   "metadata": {
    "id": "oxew6lsLiBTK"
   },
   "outputs": [],
   "source": []
  },
  {
   "cell_type": "markdown",
   "metadata": {
    "id": "xNjz8846iBTL"
   },
   "source": [
    "### 4.3. Visualization (Bonus)\n",
    "\n",
    "Propose a method to visualize the instance and solution obtained by your model using\n",
    "library such as `matplotlib`."
   ]
  },
  {
   "cell_type": "code",
   "execution_count": 138,
   "metadata": {
    "id": "Dny1DBIriBTL"
   },
   "outputs": [],
   "source": [
    "\n",
    "# corriger pour permettre que les taches soient pas dans le même ordre\n",
    "def visualization(instance: Instance, solution:Solution):\n",
    "    current = 0\n",
    "    \n",
    "    for index, si in enumerate(solution.getS()):\n",
    "        #pi, ri, di\n",
    "        pi = instance.getPi(index)\n",
    "        wait_time = abs(current-si)\n",
    "        print(\"-\"*wait_time, end=\"\")\n",
    "        print((str)(index)*pi, end=\"\")\n",
    "        current = pi+si"
   ]
  },
  {
   "cell_type": "code",
   "execution_count": 139,
   "metadata": {},
   "outputs": [
    {
     "name": "stdout",
     "output_type": "stream",
     "text": [
      "[[2, 5, 10], [1, 7, 15], [3, 5, 22], [4, 1, 8]]\n",
      "--00000-1111111-----22222-----3"
     ]
    }
   ],
   "source": [
    "print(instance.getItems())\n",
    "sol = Solution()\n",
    "sol.setInstance(instance)\n",
    "sol.setS([2, 8, 20, 30])\n",
    "visualization(instance, sol)\n",
    "#--00000-1111111-----22222-----3"
   ]
  }
 ],
 "metadata": {
  "colab": {
   "provenance": []
  },
  "kernelspec": {
   "display_name": "Python (CPLEX)",
   "language": "python",
   "name": "cplex"
  },
  "language_info": {
   "codemirror_mode": {
    "name": "ipython",
    "version": 3
   },
   "file_extension": ".py",
   "mimetype": "text/x-python",
   "name": "python",
   "nbconvert_exporter": "python",
   "pygments_lexer": "ipython3",
   "version": "3.10.13"
  }
 },
 "nbformat": 4,
 "nbformat_minor": 1
}
