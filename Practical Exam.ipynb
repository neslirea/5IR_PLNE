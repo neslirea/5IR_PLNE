{
 "cells": [
  {
   "cell_type": "markdown",
   "metadata": {
    "id": "_UopwNR5iBSR"
   },
   "source": [
    "# Practical Session - Final\n",
    "\n",
    "Student(s):\n",
    "\n",
    "Aubery Cléa\n",
    "Shinawi Aymeric"
   ]
  },
  {
   "cell_type": "markdown",
   "metadata": {
    "id": "CfpMfovoiBSc"
   },
   "source": [
    "## 1. Problem selection\n",
    "\n",
    "Choose one of the two following problems (delete the other cell).\n",
    "You can find extra information regarding both problems and their associated models in\n",
    "the main course."
   ]
  },
  {
   "cell_type": "markdown",
   "metadata": {
    "id": "o5-5r1VLiBSi"
   },
   "source": [
    "### Problem 1: Single-Machine Scheduling\n",
    "\n",
    "A machine needs to produce a set L of n items. Each\n",
    "item i has a manufacturing time pi, a release time ri (time at which its components are\n",
    "available) and a deadline di (time at which the time should be manufactured). The\n",
    "factory can only produce one item at a time, and manufacturing process cannot be\n",
    "interrupted (non-preemptive machine), what is the schedule that minimize the\n",
    "overdue deliveries?\n",
    "\n",
    "**Variables:**\n",
    "\n",
    "- $x_{ij}$ - Binary variable indicating if $i$ is manufactured before $j$.\n",
    "- $s_{i}$ - Continuous variable indicating the starting time of task $i$.\n",
    "- $y_{i}$ - Binary variable indicating if the item $i$ is overdue.\n",
    "\n",
    "**Model:**\n",
    "\n",
    "$$\n",
    "    \\begin{align}\n",
    "      \\text{min.} \\quad & \\sum_{j=1}^{n} y_{i}                 &                                           \\\\\n",
    "      \\text{s.t.} \\quad & s_j \\geq s_i + p_i - M^1_{ij} (1 - x_{ij}), & \\forall i,j \\in L,\\ i \\ne j \\\\\n",
    "                        & s_i + p_i \\leq d_i + M^2_{i} y_i,          & \\forall i \\in L             \\\\\n",
    "                        & x_{ij} + x_{ji} = 1,                 & \\forall i,j \\in L,\\ i \\ne j \\\\\n",
    "                        & x_{ij} \\in \\left\\{0,~1\\right\\},      & \\forall i,j \\in L                         \\\\\n",
    "                        & y_{i} \\in \\left\\{0,~1\\right\\},       & \\forall i \\in L                           \\\\\n",
    "                        & s_{i} \\geq r_{i},                    & \\forall i \\in L\n",
    "    \\end{align}\n",
    "$$"
   ]
  },
  {
   "cell_type": "markdown",
   "metadata": {
    "id": "_8MEsJzgiBSv"
   },
   "source": [
    "## 2. Preparation\n",
    "\n",
    "### 2.1. Instance\n",
    "\n",
    "Implement a class to hold the various data parameters required for the problem (e.g.,\n",
    "manufacturing time or aircraft target landing time).\n",
    "Your class can be a simple data holder with various fields or can contain extra methods\n",
    "for later use."
   ]
  },
  {
   "cell_type": "code",
   "execution_count": 1,
   "metadata": {
    "executionInfo": {
     "elapsed": 9,
     "status": "ok",
     "timestamp": 1706474658999,
     "user": {
      "displayName": "Clea Aubery",
      "userId": "13615853629296836833"
     },
     "user_tz": -60
    },
    "id": "NaPCZ--NiBSy"
   },
   "outputs": [],
   "source": [
    "def createItem(pi, ri, di):\n",
    "    return [pi, ri, di]\n",
    "\n",
    "class Instance:\n",
    "    def __init__(self):\n",
    "      self.items=[]\n",
    "\n",
    "    def addItems(self, items):\n",
    "      self.items.extend(items)\n",
    "\n",
    "    def addItem(self, item):\n",
    "      self.items.append(item)\n",
    "\n",
    "    def getItems(self):\n",
    "      return self.items\n",
    "\n",
    "    def getNbItems(self):\n",
    "      return len(self.items)\n",
    "\n",
    "    def getItem(self, i):\n",
    "      return self.items[i]\n",
    "\n",
    "    def getPi(self, i):\n",
    "      return self.items[i][0]\n",
    "\n",
    "    def getRi(self, i):\n",
    "      return self.items[i][1]\n",
    "\n",
    "    def getDi(self, i):\n",
    "      return self.items[i][2]"
   ]
  },
  {
   "cell_type": "code",
   "execution_count": 8,
   "metadata": {
    "colab": {
     "base_uri": "https://localhost:8080/"
    },
    "executionInfo": {
     "elapsed": 6,
     "status": "ok",
     "timestamp": 1706474664118,
     "user": {
      "displayName": "Clea Aubery",
      "userId": "13615853629296836833"
     },
     "user_tz": -60
    },
    "id": "lQspgH4b92U6",
    "outputId": "d167419b-4a44-4a4b-df72-ad905145d1e1"
   },
   "outputs": [
    {
     "name": "stdout",
     "output_type": "stream",
     "text": [
      "[5, 2, 10]\n",
      "[[5, 2, 10], [7, 1, 15]]\n",
      "[[5, 2, 10], [7, 1, 15], [5, 3, 22], [1, 4, 8]]\n",
      "[7, 1, 15]\n"
     ]
    }
   ],
   "source": [
    "# (Test)\n",
    "\n",
    "# items = [[5, 2, 10], [7, 1, 15], [5, 3, 22], [1, 4, 8]]\n",
    "print(createItem(5, 2, 10))\n",
    "\n",
    "instance = Instance()\n",
    "\n",
    "instance.addItem(createItem(5, 2, 10))\n",
    "instance.addItem(createItem(7, 1, 15))\n",
    "print(instance.getItems())\n",
    "\n",
    "instance.addItems([createItem(5, 3, 22), createItem(1, 4, 8)])\n",
    "print(instance.getItems())\n",
    "\n",
    "print(instance.getItem(1))"
   ]
  },
  {
   "cell_type": "markdown",
   "metadata": {
    "id": "_54hs5pZiBS3"
   },
   "source": [
    "### 2.2. Solution\n",
    "\n",
    "Implement a to hold a proper solution for the chosen problem.\n",
    "Your class should not contain the values for all variables in your model but only the\n",
    "relevant ones."
   ]
  },
  {
   "cell_type": "code",
   "execution_count": 10,
   "metadata": {
    "executionInfo": {
     "elapsed": 304,
     "status": "ok",
     "timestamp": 1706474857054,
     "user": {
      "displayName": "Clea Aubery",
      "userId": "13615853629296836833"
     },
     "user_tz": -60
    },
    "id": "Eg3MZt0viBS6"
   },
   "outputs": [],
   "source": [
    "# need to stock  ?\n",
    "#    xij - Binary variable indicating if i is manufactured before j.  --> not really, can be deducted\n",
    "#    yi - Binary variable indicating if the item i is overdue. --> not really, can be deducted\n",
    "#    si - Continuous variable indicating the starting time of task i.  --> yes\n",
    "#         How do we know i / the length of s ?\n",
    "#         We have instance but not initialized.\n",
    "\n",
    "class Solution:\n",
    "    instance: Instance\n",
    "    objective: int\n",
    "    s:[]\n",
    "    def __init__(self):\n",
    "      self.s=[]\n",
    "      self.objective=-1\n",
    "\n",
    "    def setInstance(self, instance):\n",
    "      self.instance = instance\n",
    "      self.s=[-1 for i in range(instance.getNbItems())]\n",
    "\n",
    "    def setS(self, S):\n",
    "      if(len(S)==len(self.s)):\n",
    "        self.s = S\n",
    "      else:\n",
    "        raise Exception(\"Incorrect length for Y!\")\n",
    "\n",
    "    def setSi(self, i,  si):\n",
    "      self.s[i]=si\n",
    "\n",
    "    def getS(self):\n",
    "      return self.s\n",
    "\n",
    "    def getSi(self, i):\n",
    "      return self.s[i]\n",
    "\n",
    "    def getInstance(self):\n",
    "      return self.instance\n",
    "\n",
    "    def setObjective(self, obj):\n",
    "      self.objective = obj\n",
    "    \n",
    "    def getObjective(self):\n",
    "      return self.objective"
   ]
  },
  {
   "cell_type": "markdown",
   "metadata": {
    "id": "k0aFG_pkiBS9"
   },
   "source": [
    "Implement the function below to check if a solution is valid or not."
   ]
  },
  {
   "cell_type": "code",
   "execution_count": 11,
   "metadata": {
    "executionInfo": {
     "elapsed": 6,
     "status": "ok",
     "timestamp": 1706475474360,
     "user": {
      "displayName": "Clea Aubery",
      "userId": "13615853629296836833"
     },
     "user_tz": -60
    },
    "id": "YZwEeN5-iBTA"
   },
   "outputs": [],
   "source": [
    "\n",
    "def check_solution(solution: Solution) -> bool:\n",
    "    instance = solution.getInstance()\n",
    "    res = True\n",
    "    for i in range(instance.getNbItems()):\n",
    "        # item  : ri, pi, di :  release time ri, manufacturing time pi and a deadline di\n",
    "        # verification : task is executed\n",
    "        soli = solution.getSi(i)\n",
    "        pi = instance.getPi(i) \n",
    "        ri = instance.getRi(i) \n",
    "            \n",
    "        if(soli==-1):\n",
    "            return False\n",
    "        # verification : task is started after release time\n",
    "        elif(ri>soli):\n",
    "            return False   \n",
    "    sol = []\n",
    "    \n",
    "    # verification : task is started after previous is ended \n",
    "    for index, si in enumerate(solution.getS()):\n",
    "        sol.append([si, index])\n",
    "    sol.sort()\n",
    "\n",
    "    for i in range(instance.getNbItems()-1):\n",
    "        si_0 = sol[i][0]\n",
    "        pi_0 = instance.getPi(sol[i][1])\n",
    "        si_1 = sol[i+1][0]\n",
    "        if(si_0+pi_0>si_1):\n",
    "            return False\n",
    "            \n",
    "    return True\n",
    "\n",
    "def check_solution_ontime(solution : Solution) -> bool :\n",
    "    instance = solution.getInstance()\n",
    "    res = check_solution(solution)\n",
    "    for i in range(instance.getNbItems()):\n",
    "        soli = solution.getSi(i)\n",
    "        pi = instance.getPi(i)\n",
    "        di = instance.getDi(i)\n",
    "        # delay (exec + process > deadline)    \n",
    "        # possible : return pair of boolean : isValid, isLate\n",
    "        if pi + soli > (di):\n",
    "            return False\n",
    "    return True\n",
    "    "
   ]
  },
  {
   "cell_type": "code",
   "execution_count": 12,
   "metadata": {
    "colab": {
     "base_uri": "https://localhost:8080/"
    },
    "executionInfo": {
     "elapsed": 315,
     "status": "ok",
     "timestamp": 1706475922381,
     "user": {
      "displayName": "Clea Aubery",
      "userId": "13615853629296836833"
     },
     "user_tz": -60
    },
    "id": "M8rfKMZzu6n7",
    "outputId": "778bd391-6165-4550-a88a-8dcfe82e09eb"
   },
   "outputs": [
    {
     "name": "stdout",
     "output_type": "stream",
     "text": [
      "[[5, 2, 10], [7, 1, 15], [5, 3, 22], [1, 4, 8]]\n",
      "[-1, -1, -1, -1] \n",
      "\n",
      "[1, 8, 15, 7]\n",
      "False\n",
      "[-1, 8, 15, 7]\n",
      "False\n",
      "[2, 8, 15, 7]\n",
      "True\n",
      "True\n",
      "[2, 8, 20, 7]\n",
      "True\n",
      "False\n"
     ]
    }
   ],
   "source": [
    "# (Test)\n",
    "sol = Solution()\n",
    "\n",
    "sol.setInstance(instance)\n",
    "print(sol.getInstance().getItems())\n",
    "print(sol.getS(), \"\\n\")\n",
    "\n",
    "sol.setS([1, 8, 15, 7])\n",
    "\n",
    "# items = [[5, 2, 10], [7, 1, 15], [5, 3, 22], [1, 4, 8]]\n",
    "# false sol\n",
    "print(sol.getS())\n",
    "print(check_solution(sol))\n",
    "\n",
    "# false sol = 2, 8, 15, 7\n",
    "sol.setSi(0, -1)\n",
    "print(sol.getS())\n",
    "print(check_solution(sol))\n",
    "\n",
    "\n",
    "# true sol = 2, 8, 15, 7\n",
    "sol.setSi(0, 2)\n",
    "print(sol.getS())\n",
    "print(check_solution(sol))\n",
    "print(check_solution_ontime(sol))\n",
    "\n",
    "# true sol (late) = 2, 8, 15, 7\n",
    "sol.setSi(2, 20)\n",
    "print(sol.getS())\n",
    "print(check_solution(sol))\n",
    "print(check_solution_ontime(sol))\n"
   ]
  },
  {
   "cell_type": "markdown",
   "metadata": {
    "id": "Z89L4rb8iBTC"
   },
   "source": [
    "### 2.3. Data Generation\n",
    "\n",
    "Propose, explain and implement a method to generate instances of various sizes (e.g.,\n",
    "number of items or number of aircraft)."
   ]
  },
  {
   "cell_type": "code",
   "execution_count": 13,
   "metadata": {
    "executionInfo": {
     "elapsed": 366,
     "status": "ok",
     "timestamp": 1706476400262,
     "user": {
      "displayName": "Clea Aubery",
      "userId": "13615853629296836833"
     },
     "user_tz": -60
    },
    "id": "YbWBKPcCiBTD"
   },
   "outputs": [],
   "source": [
    "import random\n",
    "\n",
    "def generate_instance(size: int, rng: random.Random = random.Random(), maxDuration: int = 10) -> Instance:\n",
    "    # Generation of the n items. [pi, ri, di]\n",
    "    # pi : On peut choisir une durée max des tâches en paramètre (défaut : 15)\n",
    "    # ri : On choisi de façon aléatoire entre 0 et (pi-1)*size\n",
    "    # di : On choisi de façon aléatoire entre pi et pi*size\n",
    "    items = [[] for i in range(size)]\n",
    "    for i in range(size):\n",
    "        ri = int (rng.random()*size*maxDuration)\n",
    "        pi = int (rng.random()*maxDuration+1)\n",
    "\n",
    "        di = int(rng.random()*maxDuration) + pi +ri\n",
    "        items[i] = [pi, ri, di]\n",
    "\n",
    "    instance = Instance()\n",
    "    instance.addItems(items)\n",
    "    return instance\n"
   ]
  },
  {
   "cell_type": "code",
   "execution_count": 17,
   "metadata": {
    "colab": {
     "base_uri": "https://localhost:8080/"
    },
    "executionInfo": {
     "elapsed": 7,
     "status": "ok",
     "timestamp": 1706476411728,
     "user": {
      "displayName": "Clea Aubery",
      "userId": "13615853629296836833"
     },
     "user_tz": -60
    },
    "id": "eOtUkKmr45--",
    "outputId": "77ad0e23-5b08-4e17-a541-3d8e72c3e3ae"
   },
   "outputs": [
    {
     "name": "stdout",
     "output_type": "stream",
     "text": [
      "<class '__main__.Instance'>\n",
      "[[10, 48, 67], [2, 5, 16], [8, 21, 31], [9, 2, 20], [1, 3, 4]]\n"
     ]
    }
   ],
   "source": [
    "# (Test)\n",
    "\n",
    "print(type(generate_instance(5)))\n",
    "print(generate_instance(5).getItems())"
   ]
  },
  {
   "cell_type": "markdown",
   "metadata": {
    "id": "u8_2YpkpiBTE"
   },
   "source": [
    "## 3. Model implementation\n",
    "\n",
    "### 3.1. Model\n",
    "\n",
    "Implement the function below that should create an appropriate `docplex` model\n",
    "given an instance of the chosen problem.\n",
    "\n",
    "Use appropriate values for the big-$M$ constants in the model."
   ]
  },
  {
   "cell_type": "markdown",
   "metadata": {
    "id": "o5-5r1VLiBSi"
   },
   "source": [
    "### Problem 1: Single-Machine Scheduling\n",
    "\n",
    "A machine needs to produce a set L of n items. Each\n",
    "item i has a manufacturing time pi, a release time ri (time at which its components are\n",
    "available) and a deadline di (time at which the time should be manufactured). The\n",
    "factory can only produce one item at a time, and manufacturing process cannot be\n",
    "interrupted (non-preemptive machine), what is the schedule that minimize the\n",
    "overdue deliveries?\n",
    "\n",
    "**Variables:**\n",
    "\n",
    "- $x_{ij}$ - Binary variable indicating if $i$ is manufactured before $j$.\n",
    "- $s_{i}$ - Continuous variable indicating the starting time of task $i$.\n",
    "- $y_{i}$ - Binary variable indicating if the item $i$ is overdue.\n",
    "\n",
    "**Model:**\n",
    "\n",
    "$$\n",
    "    \\begin{align}\n",
    "      \\text{min.} \\quad & \\sum_{j=1}^{n} y_{i}                 &                                           \\\\\n",
    "      \\text{s.t.} \\quad & s_j \\geq s_i + p_i - M^1_{ij} (1 - x_{ij}), & \\forall i,j \\in L,\\ i \\ne j \\\\\n",
    "                        & s_i + p_i \\leq d_i + M^2_{i} y_i,          & \\forall i \\in L             \\\\\n",
    "                        & x_{ij} + x_{ji} = 1,                 & \\forall i,j \\in L,\\ i \\ne j \\\\\n",
    "                        & x_{ij} \\in \\left\\{0,~1\\right\\},      & \\forall i,j \\in L                         \\\\\n",
    "                        & y_{i} \\in \\left\\{0,~1\\right\\},       & \\forall i \\in L                           \\\\\n",
    "                        & s_{i} \\geq r_{i},                    & \\forall i \\in L\n",
    "    \\end{align}\n",
    "$$"
   ]
  },
  {
   "cell_type": "code",
   "execution_count": 18,
   "metadata": {
    "id": "UqJvPUVTiBTF"
   },
   "outputs": [],
   "source": [
    "from docplex.mp.model import Model\n",
    "\n",
    "def model_for(instance: Instance) -> Model:\n",
    "    model = Model(\"Single-Machine Scheduling\")\n",
    "    \n",
    "    L = instance.getNbItems()\n",
    "    \n",
    "    # upper bound for y : temps max * L + biggest realease time\n",
    "    M = max([instance.getPi(i) for i in range(L)]) * L + max([instance.getRi(i) for i in range(L)]) * 999\n",
    "\n",
    "    # Create si, yi\n",
    "    s = model.integer_var_list(L, 0, M, name=\"s_\")\n",
    "    #s = model.continuous_var_list(L, 0, M, name=f's_')\n",
    "    y = model.binary_var_list(L, name=\"y_\")\n",
    "    \n",
    "    # Create xi\n",
    "    x = []\n",
    "    for i in range(L):\n",
    "        x.append(model.binary_var_list(L, name=f\"x{i}_\"))\n",
    "        \n",
    "    # Objective contraint\n",
    "    model.minimize(model.sum(y[i] for i in range(L)))\n",
    "    \n",
    "    # --- Constraints ---------\n",
    "    # sj >= si + pi - M(1, ij)(1-xij)\n",
    "    for i in range(L):\n",
    "        for j in range(L):\n",
    "            if i != j:\n",
    "                model.add_constraint(s[j] >= s[i] + instance.getItem(i)[0] - M * (1 - x[i][j]))\n",
    "\n",
    "    # si + pi <= di + M(2, i)(yi)\n",
    "    for i in range(L):\n",
    "        model.add_constraint_(s[i] + instance.getPi(i) <= instance.getDi(i) + M * y[i])\n",
    "      \n",
    "    for i in range(L):\n",
    "        # xij + xji = 1\n",
    "        for j in range(i):\n",
    "            model.add_constraint_(x[i][j]+x[j][i]==1)          \n",
    "    for i in range(L):    \n",
    "        # si >= ri    \n",
    "        model.add_constraint_(s[i]>=instance.getRi(i))\n",
    "        \n",
    "    # test - add yi \n",
    "        \n",
    "    # -------------------------\n",
    "        \n",
    "    return model\n",
    "    "
   ]
  },
  {
   "cell_type": "code",
   "execution_count": 19,
   "metadata": {},
   "outputs": [
    {
     "data": {
      "text/plain": [
       "docplex.mp.Model['Single-Machine Scheduling']"
      ]
     },
     "execution_count": 19,
     "metadata": {},
     "output_type": "execute_result"
    }
   ],
   "source": [
    "mdl = model_for(instance)\n",
    "mdl"
   ]
  },
  {
   "cell_type": "markdown",
   "metadata": {
    "id": "BE5kKvIiiBTG"
   },
   "source": [
    "### 3.2. Resolution\n",
    "\n",
    "Complete the function below to construct a proper `Solution` from the obtained\n",
    "`docplex` solution."
   ]
  },
  {
   "cell_type": "code",
   "execution_count": 20,
   "metadata": {
    "id": "RMqY1SXHiBTH"
   },
   "outputs": [],
   "source": [
    "def solve(instance: Instance) -> Solution | None:\n",
    "    model = model_for(instance)\n",
    "\n",
    "    # enable logging\n",
    "    model.log_output = True\n",
    "\n",
    "    # solve\n",
    "    solution = model.solve()\n",
    "    \n",
    "    if not solution:\n",
    "        return None\n",
    "\n",
    "    # TODO: convert the docplex solution to an appropriate Solution\n",
    "    print(\"---------------\")\n",
    "    sol = Solution()\n",
    "    sol.setInstance(instance)\n",
    "    sol.setObjective(solution.get_objective_value())\n",
    "    \n",
    "    for i in range(instance.getNbItems()):\n",
    "        print(solution.get_value(f\"y__{i}\"))\n",
    "        sol.setSi(i, solution.get_value(f\"s__{i}\"))\n",
    "  \n",
    "    return sol"
   ]
  },
  {
   "cell_type": "code",
   "execution_count": 37,
   "metadata": {},
   "outputs": [],
   "source": [
    "def test_instance(instance):\n",
    "    solution_generated = solve(instance)\n",
    "    print(instance.getItems())\n",
    "    print(\"S = \", solution_generated.getS())\n",
    "    print(\"obj = \", solution_generated.getObjective())\n",
    "    print(\"\\n\")\n",
    "\n",
    "    #pi, ri, di\n",
    "    print(check_solution(solution_generated))\n",
    "    print(check_solution_ontime(solution_generated))"
   ]
  },
  {
   "cell_type": "code",
   "execution_count": 38,
   "metadata": {},
   "outputs": [
    {
     "name": "stdout",
     "output_type": "stream",
     "text": [
      "Version identifier: 22.1.1.0 | 2022-11-28 | 9160aff4d\n",
      "CPXPARAM_Read_DataCheck                          1\n",
      "Found incumbent of value 2.000000 after 0.00 sec. (0.00 ticks)\n",
      "Tried aggregator 2 times.\n",
      "MIP Presolve eliminated 4 rows and 4 columns.\n",
      "MIP Presolve modified 8 coefficients.\n",
      "Aggregator did 6 substitutions.\n",
      "Reduced MIP has 16 rows, 14 columns, and 44 nonzeros.\n",
      "Reduced MIP has 10 binaries, 4 generals, 0 SOSs, and 0 indicators.\n",
      "Presolve time = 0.01 sec. (0.05 ticks)\n",
      "Probing time = 0.00 sec. (0.01 ticks)\n",
      "Tried aggregator 1 time.\n",
      "Detecting symmetries...\n",
      "Reduced MIP has 16 rows, 14 columns, and 44 nonzeros.\n",
      "Reduced MIP has 10 binaries, 4 generals, 0 SOSs, and 0 indicators.\n",
      "Presolve time = 0.00 sec. (0.03 ticks)\n",
      "Probing time = 0.00 sec. (0.01 ticks)\n",
      "Clique table members: 4.\n",
      "MIP emphasis: balance optimality and feasibility.\n",
      "MIP search method: dynamic search.\n",
      "Parallel mode: deterministic, using up to 6 threads.\n",
      "Root relaxation solution time = 0.00 sec. (0.02 ticks)\n",
      "\n",
      "        Nodes                                         Cuts/\n",
      "   Node  Left     Objective  IInf  Best Integer    Best Bound    ItCnt     Gap\n",
      "\n",
      "*     0+    0                            2.0000        0.0000           100.00%\n",
      "      0     0        0.0000     6        2.0000        0.0000        6  100.00%\n",
      "      0     0        0.0000     4        2.0000    MIRcuts: 4       13  100.00%\n",
      "      0     0        0.0000     4        2.0000       Cuts: 2       16  100.00%\n",
      "      0     0        0.0000     3        2.0000    MIRcuts: 1       18  100.00%\n",
      "*     0+    0                            0.0000        0.0000             0.00%\n",
      "      0     0        cutoff              0.0000        0.0000       18    0.00%\n",
      "Elapsed time = 0.03 sec. (0.36 ticks, tree = 0.01 MB, solutions = 2)\n",
      "\n",
      "Clique cuts applied:  1\n",
      "Mixed integer rounding cuts applied:  6\n",
      "\n",
      "Root node processing (before b&c):\n",
      "  Real time             =    0.03 sec. (0.36 ticks)\n",
      "Parallel b&c, 6 threads:\n",
      "  Real time             =    0.00 sec. (0.00 ticks)\n",
      "  Sync time (average)   =    0.00 sec.\n",
      "  Wait time (average)   =    0.00 sec.\n",
      "                          ------------\n",
      "Total (root+branch&cut) =    0.03 sec. (0.36 ticks)\n",
      "---------------\n",
      "0\n",
      "0\n",
      "0\n",
      "0\n",
      "[[5, 2, 10], [7, 1, 15], [5, 3, 22], [1, 4, 8]]\n",
      "S =  [2.0, 8.0, 15.0, 7.0]\n",
      "obj =  0.0\n",
      "\n",
      "\n",
      "True\n",
      "True\n"
     ]
    }
   ],
   "source": [
    "test_instance(instance)"
   ]
  },
  {
   "cell_type": "code",
   "execution_count": 40,
   "metadata": {},
   "outputs": [
    {
     "name": "stdout",
     "output_type": "stream",
     "text": [
      "Version identifier: 22.1.1.0 | 2022-11-28 | 9160aff4d\n",
      "CPXPARAM_Read_DataCheck                          1\n",
      "Found incumbent of value 1.000000 after 0.00 sec. (0.00 ticks)\n",
      "Tried aggregator 2 times.\n",
      "MIP Presolve eliminated 3 rows and 3 columns.\n",
      "MIP Presolve modified 11 coefficients.\n",
      "Aggregator did 3 substitutions.\n",
      "Reduced MIP has 9 rows, 9 columns, and 24 nonzeros.\n",
      "Reduced MIP has 6 binaries, 3 generals, 0 SOSs, and 0 indicators.\n",
      "Presolve time = 0.00 sec. (0.03 ticks)\n",
      "Probing time = 0.00 sec. (0.00 ticks)\n",
      "Tried aggregator 1 time.\n",
      "Detecting symmetries...\n",
      "MIP Presolve modified 4 coefficients.\n",
      "Reduced MIP has 9 rows, 9 columns, and 24 nonzeros.\n",
      "Reduced MIP has 6 binaries, 3 generals, 0 SOSs, and 0 indicators.\n",
      "Presolve time = 0.00 sec. (0.02 ticks)\n",
      "Probing time = 0.00 sec. (0.00 ticks)\n",
      "Clique table members: 3.\n",
      "MIP emphasis: balance optimality and feasibility.\n",
      "MIP search method: dynamic search.\n",
      "Parallel mode: deterministic, using up to 6 threads.\n",
      "Root relaxation solution time = 0.00 sec. (0.02 ticks)\n",
      "\n",
      "        Nodes                                         Cuts/\n",
      "   Node  Left     Objective  IInf  Best Integer    Best Bound    ItCnt     Gap\n",
      "\n",
      "*     0+    0                            1.0000        0.0000           100.00%\n",
      "*     0     0      integral     0        0.0000        0.0000        1    0.00%\n",
      "Elapsed time = 0.02 sec. (0.09 ticks, tree = 0.00 MB, solutions = 2)\n",
      "\n",
      "Root node processing (before b&c):\n",
      "  Real time             =    0.02 sec. (0.09 ticks)\n",
      "Parallel b&c, 6 threads:\n",
      "  Real time             =    0.00 sec. (0.00 ticks)\n",
      "  Sync time (average)   =    0.00 sec.\n",
      "  Wait time (average)   =    0.00 sec.\n",
      "                          ------------\n",
      "Total (root+branch&cut) =    0.02 sec. (0.09 ticks)\n",
      "---------------\n",
      "0\n",
      "0\n",
      "0\n",
      "[[10, 4, 22], [5, 27, 38], [5, 22, 27]]\n",
      "S =  [12.0, 27.0, 22.0]\n",
      "obj =  0.0\n",
      "\n",
      "\n",
      "True\n",
      "True\n"
     ]
    }
   ],
   "source": [
    "test_instance(generate_instance(3))"
   ]
  },
  {
   "cell_type": "markdown",
   "metadata": {
    "id": "B0mEfTdUiBTI"
   },
   "source": [
    "## 4. Evaluation\n",
    "\n",
    "### 4.1. Simple evaluation\n",
    "\n",
    "Evaluate the model and solution implemented above on various instances generated by\n",
    "your method.\n",
    "\n",
    "What size of instances can your model solve? Which parameters have the biggest impact\n",
    "on the resolution time?"
   ]
  },
  {
   "cell_type": "code",
   "execution_count": null,
   "metadata": {
    "id": "Mgxxo44QiBTJ"
   },
   "outputs": [],
   "source": []
  },
  {
   "cell_type": "markdown",
   "metadata": {
    "id": "VH3Xsz8EiBTJ"
   },
   "source": [
    "### 4.2. Relaxation\n",
    "\n",
    "Evaluate the impact of having tighter big-$M$ values in your model to the appropriate\n",
    "relaxation.\n",
    "\n",
    "**Tips:**\n",
    "\n",
    "- Adapt the `model_for` function (or create a new one) to easily change the big-$M$\n",
    "  values.\n",
    "- You can use the following code to solve the relaxation of your model:\n",
    "\n",
    "```python\n",
    "from docplex.mp.relax_linear import LinearRelaxer\n",
    "\n",
    "lp = LinearRelaxer.make_relaxed_model(model)\n",
    "solution_relaxed = lp.solve(log_output=True)\n",
    "```"
   ]
  },
  {
   "cell_type": "code",
   "execution_count": 26,
   "metadata": {
    "id": "oxew6lsLiBTK"
   },
   "outputs": [
    {
     "ename": "NameError",
     "evalue": "name 'model' is not defined",
     "output_type": "error",
     "traceback": [
      "\u001b[0;31m---------------------------------------------------------------------------\u001b[0m",
      "\u001b[0;31mNameError\u001b[0m                                 Traceback (most recent call last)",
      "Cell \u001b[0;32mIn[26], line 3\u001b[0m\n\u001b[1;32m      1\u001b[0m \u001b[38;5;28;01mfrom\u001b[39;00m \u001b[38;5;21;01mdocplex\u001b[39;00m\u001b[38;5;21;01m.\u001b[39;00m\u001b[38;5;21;01mmp\u001b[39;00m\u001b[38;5;21;01m.\u001b[39;00m\u001b[38;5;21;01mrelax_linear\u001b[39;00m \u001b[38;5;28;01mimport\u001b[39;00m LinearRelaxer\n\u001b[0;32m----> 3\u001b[0m lp \u001b[38;5;241m=\u001b[39m LinearRelaxer\u001b[38;5;241m.\u001b[39mmake_relaxed_model(\u001b[43mmodel\u001b[49m)\n\u001b[1;32m      4\u001b[0m solution_relaxed \u001b[38;5;241m=\u001b[39m lp\u001b[38;5;241m.\u001b[39msolve(log_output\u001b[38;5;241m=\u001b[39m\u001b[38;5;28;01mTrue\u001b[39;00m)\n\u001b[1;32m      6\u001b[0m \u001b[38;5;28mprint\u001b[39m(\u001b[38;5;124m\"\u001b[39m\u001b[38;5;124mS = \u001b[39m\u001b[38;5;124m\"\u001b[39m, solution_relaxed\u001b[38;5;241m.\u001b[39mgetS())\n",
      "\u001b[0;31mNameError\u001b[0m: name 'model' is not defined"
     ]
    }
   ],
   "source": [
    "from docplex.mp.relax_linear import LinearRelaxer\n",
    "\n",
    "lp = LinearRelaxer.make_relaxed_model(model)\n",
    "solution_relaxed = lp.solve(log_output=True)\n",
    "\n",
    "print(\"S = \", solution_relaxed.getS())\n",
    "print(\"obj = \", solution_relaxed.getObjective())\n",
    "visualization(instance, solution_relaxed)"
   ]
  },
  {
   "cell_type": "markdown",
   "metadata": {
    "id": "xNjz8846iBTL"
   },
   "source": [
    "### 4.3. Visualization (Bonus)\n",
    "\n",
    "Propose a method to visualize the instance and solution obtained by your model using\n",
    "library such as `matplotlib`."
   ]
  },
  {
   "cell_type": "code",
   "execution_count": 23,
   "metadata": {
    "id": "Dny1DBIriBTL"
   },
   "outputs": [],
   "source": [
    "\n",
    "# corriger pour permettre que les taches soient pas dans le même ordre\n",
    "def visualization(instance: Instance, solution:Solution):\n",
    "    current = 0\n",
    "    \n",
    "    sol = []\n",
    "    for index, si in enumerate(solution.getS()):\n",
    "        sol.append([si, index])\n",
    "    sol.sort()\n",
    "    \n",
    "    for si, index in sol:\n",
    "        #pi, ri, di\n",
    "        pi = instance.getPi(index)\n",
    "        wait_time = abs(current-si)\n",
    "        print(\"-\"*int(wait_time), end=\"\")\n",
    "        print((str)(index)*pi, end=\"\")\n",
    "        current = pi+si"
   ]
  },
  {
   "cell_type": "code",
   "execution_count": 25,
   "metadata": {},
   "outputs": [
    {
     "name": "stdout",
     "output_type": "stream",
     "text": [
      "[[5, 2, 10], [7, 1, 15], [5, 3, 22], [1, 4, 8]]\n",
      "--0000031111111-22222"
     ]
    }
   ],
   "source": [
    "print(instance.getItems())\n",
    "sol = Solution()\n",
    "sol.setInstance(instance)\n",
    "sol.setS([2, 8, 16, 7])\n",
    "visualization(instance, sol)"
   ]
  }
 ],
 "metadata": {
  "colab": {
   "provenance": []
  },
  "kernelspec": {
   "display_name": "Python (CPLEX)",
   "language": "python",
   "name": "cplex"
  },
  "language_info": {
   "codemirror_mode": {
    "name": "ipython",
    "version": 3
   },
   "file_extension": ".py",
   "mimetype": "text/x-python",
   "name": "python",
   "nbconvert_exporter": "python",
   "pygments_lexer": "ipython3",
   "version": "3.10.13"
  }
 },
 "nbformat": 4,
 "nbformat_minor": 1
}
